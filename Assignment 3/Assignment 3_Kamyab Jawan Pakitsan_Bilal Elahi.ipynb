{
 "cells": [
  {
   "cell_type": "markdown",
   "metadata": {},
   "source": [
    "# 1:Writing a string in specific format"
   ]
  },
  {
   "cell_type": "code",
   "execution_count": 14,
   "metadata": {},
   "outputs": [
    {
     "name": "stdout",
     "output_type": "stream",
     "text": [
      "Twinkle, twinkle, little star,\n",
      "         How I wonder what you are! \n",
      "                 Up above the world so high, \n",
      "                 Like a diamond in the sky. \n",
      "Twinkle, twinkle, little star,\n",
      "         How I wonder what you are\n"
     ]
    }
   ],
   "source": [
    "print(\"Twinkle, twinkle, little star,\\n         How I wonder what you are! \\n                 Up above the world so high, \\n                 Like a diamond in the sky. \\nTwinkle, twinkle, little star,\\n         How I wonder what you are\")"
   ]
  },
  {
   "cell_type": "markdown",
   "metadata": {},
   "source": [
    "# 2: Code for Python Version"
   ]
  },
  {
   "cell_type": "code",
   "execution_count": 17,
   "metadata": {},
   "outputs": [
    {
     "name": "stdout",
     "output_type": "stream",
     "text": [
      "3.8.5\n"
     ]
    }
   ],
   "source": [
    "from platform import python_version\n",
    "print(python_version())"
   ]
  },
  {
   "cell_type": "markdown",
   "metadata": {},
   "source": [
    "# 3: Displaying current Date and time"
   ]
  },
  {
   "cell_type": "code",
   "execution_count": 21,
   "metadata": {},
   "outputs": [
    {
     "data": {
      "text/plain": [
       "'Sun Oct 24 14:44:02 2021'"
      ]
     },
     "execution_count": 21,
     "metadata": {},
     "output_type": "execute_result"
    }
   ],
   "source": [
    "import time\n",
    "time.ctime()"
   ]
  },
  {
   "cell_type": "markdown",
   "metadata": {},
   "source": [
    "# 4: Finding Area of a Circle by taking input from user"
   ]
  },
  {
   "cell_type": "code",
   "execution_count": 22,
   "metadata": {},
   "outputs": [
    {
     "name": "stdout",
     "output_type": "stream",
     "text": [
      "Enter value of Radius: 5\n",
      "78.53981633974483\n"
     ]
    }
   ],
   "source": [
    "import math\n",
    "r=float(input(\"Enter value of Radius: \"));\n",
    "Area= math.pi * r * r;\n",
    "print(Area);"
   ]
  },
  {
   "cell_type": "markdown",
   "metadata": {},
   "source": [
    "# 5: Displaying First name and Last name in reverse order"
   ]
  },
  {
   "cell_type": "code",
   "execution_count": 26,
   "metadata": {},
   "outputs": [
    {
     "name": "stdout",
     "output_type": "stream",
     "text": [
      "Enter First Name: Bilal\n",
      "Enter Last Name: Elahi\n",
      "My name is Elahi Bilal\n"
     ]
    }
   ],
   "source": [
    "firstname = input(\"Enter First Name: \");\n",
    "lastname = input(\"Enter Last Name: \");\n",
    "print(\"My name is \"+lastname+\" \"+firstname);"
   ]
  },
  {
   "cell_type": "markdown",
   "metadata": {},
   "source": [
    "# 6: Taking Input from User and then Adding them "
   ]
  },
  {
   "cell_type": "code",
   "execution_count": 28,
   "metadata": {},
   "outputs": [
    {
     "name": "stdout",
     "output_type": "stream",
     "text": [
      "Enter first Number: 10\n",
      "Enter 2nd Number: 15\n",
      "25\n"
     ]
    }
   ],
   "source": [
    "x = int(input(\"Enter first Number: \"));\n",
    "y = int(input(\"Enter 2nd Number: \"));\n",
    "z = x + y;\n",
    "print(z);"
   ]
  },
  {
   "cell_type": "markdown",
   "metadata": {},
   "source": [
    "# 7: Code for 5 inputs from user then finding grades"
   ]
  },
  {
   "cell_type": "code",
   "execution_count": 34,
   "metadata": {},
   "outputs": [
    {
     "name": "stdout",
     "output_type": "stream",
     "text": [
      "Enter English Marks: 95\n",
      "Enter Maths Marks: 80\n",
      "Enter Islamiat Marks: 85\n",
      "Enter Computer Marks: 90\n",
      "Enter Urdu Marks: 70\n",
      "A\n"
     ]
    }
   ],
   "source": [
    "Eng = int(input(\"Enter English Marks: \"));\n",
    "Maths = int(input(\"Enter Maths Marks: \"));\n",
    "Isl = int(input(\"Enter Islamiat Marks: \"));\n",
    "comp = int(input(\"Enter Computer Marks: \"));\n",
    "urdu = int(input(\"Enter Urdu Marks: \"));\n",
    "Total = 500;\n",
    "perc = (Eng + Maths + Isl + comp + urdu)/Total * 100;\n",
    "if perc < 100 and perc >= 90:\n",
    "    print(\"A+\");\n",
    "elif perc < 90 and perc >= 80:\n",
    "    print(\"A\");\n",
    "elif perc < 80 and Perc >=70:\n",
    "    print(\"B+\");\n",
    "elif perc <  70 and perc >= 60:\n",
    "    print(\"B\");\n",
    "elif perc < 60 and perc >= 50:\n",
    "    print(\"C\");\n",
    "elif perc < 50 and perc >= 40:\n",
    "    print(\"D\");\n",
    "elif perc < 40 and perc >=33:\n",
    "    print(\"E\");\n",
    "elif perc < 33 and perc >= 0:\n",
    "    print(\"F\");\n",
    "elif perc < 0 and perc > 100:\n",
    "    print(\"The Number is Invalid\");\n",
    "else:\n",
    "    print(\"Fail\");\n"
   ]
  },
  {
   "cell_type": "markdown",
   "metadata": {},
   "source": [
    "# 8:Even or ODD"
   ]
  },
  {
   "cell_type": "code",
   "execution_count": 39,
   "metadata": {},
   "outputs": [
    {
     "name": "stdout",
     "output_type": "stream",
     "text": [
      "Enter a Number 8\n",
      "The number is Even.\n"
     ]
    }
   ],
   "source": [
    "x = int(input(\"Enter a Number \"));\n",
    "R = x%2;\n",
    "if R == 0:\n",
    "    print(\"The number is Even.\");\n",
    "else:\n",
    "    print(\"The number is Odd.\");"
   ]
  },
  {
   "cell_type": "code",
   "execution_count": 40,
   "metadata": {},
   "outputs": [
    {
     "name": "stdout",
     "output_type": "stream",
     "text": [
      "Enter a Number 9\n",
      "The number is Odd.\n"
     ]
    }
   ],
   "source": [
    "x = int(input(\"Enter a Number \"));\n",
    "R = x%2;\n",
    "if R == 0:\n",
    "    print(\"The number is Even.\");\n",
    "else:\n",
    "    print(\"The number is Odd.\");"
   ]
  },
  {
   "cell_type": "markdown",
   "metadata": {},
   "source": [
    "# 9: length of List"
   ]
  },
  {
   "cell_type": "code",
   "execution_count": 46,
   "metadata": {},
   "outputs": [
    {
     "name": "stdout",
     "output_type": "stream",
     "text": [
      "6\n"
     ]
    }
   ],
   "source": [
    "List = [1,2,4,5,7,\"Color\"];\n",
    "print(len(List));"
   ]
  },
  {
   "cell_type": "markdown",
   "metadata": {},
   "source": [
    "# 10: Sum of Numeric Items in the List"
   ]
  },
  {
   "cell_type": "code",
   "execution_count": 49,
   "metadata": {},
   "outputs": [
    {
     "name": "stdout",
     "output_type": "stream",
     "text": [
      "90\n"
     ]
    }
   ],
   "source": [
    "List1= [1,10,20,50,9];\n",
    "total = sum(List1);\n",
    "print(total);"
   ]
  },
  {
   "cell_type": "markdown",
   "metadata": {},
   "source": [
    "# 11: Largest number from a List"
   ]
  },
  {
   "cell_type": "code",
   "execution_count": 50,
   "metadata": {},
   "outputs": [
    {
     "name": "stdout",
     "output_type": "stream",
     "text": [
      "Largest Number is  50\n"
     ]
    }
   ],
   "source": [
    "print(\"Largest Number is \",max(List1));"
   ]
  },
  {
   "cell_type": "markdown",
   "metadata": {},
   "source": [
    "# 12: Number less then 5"
   ]
  },
  {
   "cell_type": "code",
   "execution_count": 57,
   "metadata": {},
   "outputs": [
    {
     "name": "stdout",
     "output_type": "stream",
     "text": [
      "1\n",
      "1\n",
      "2\n",
      "3\n"
     ]
    }
   ],
   "source": [
    "a = [1, 1, 2, 3, 5, 8, 13, 21, 34, 55, 89];\n",
    "for i in a:\n",
    "    if i < 5:\n",
    "        print(i);"
   ]
  },
  {
   "cell_type": "code",
   "execution_count": null,
   "metadata": {},
   "outputs": [],
   "source": []
  }
 ],
 "metadata": {
  "kernelspec": {
   "display_name": "Python 3",
   "language": "python",
   "name": "python3"
  },
  "language_info": {
   "codemirror_mode": {
    "name": "ipython",
    "version": 3
   },
   "file_extension": ".py",
   "mimetype": "text/x-python",
   "name": "python",
   "nbconvert_exporter": "python",
   "pygments_lexer": "ipython3",
   "version": "3.8.5"
  }
 },
 "nbformat": 4,
 "nbformat_minor": 4
}
